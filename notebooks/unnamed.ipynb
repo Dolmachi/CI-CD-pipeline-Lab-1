{
 "cells": [
  {
   "cell_type": "markdown",
   "metadata": {},
   "source": [
    "# Предсказание цены на автомобили"
   ]
  },
  {
   "cell_type": "markdown",
   "metadata": {},
   "source": [
    "Датасет содержит 10 000 записей, созданных с целью прогнозирования цен на автомобили. Каждая строка представляет информацию об автомобиле и его цене.\n",
    "\n",
    "**Описание столбцов:**\n",
    "\n",
    "- *Brand*: марка автомобиля.\n",
    "\n",
    "- *Model*: модель автомобиля.\n",
    "\n",
    "- *Year*: год выпуска.\n",
    "\n",
    "- *Engine_Size*: размер двигателя в литрах.\n",
    "\n",
    "- *Fuel_Type*: тип топлива, используемого автомобилем:\n",
    "    - *Petrol*: автомобили, работающие на бензине.\n",
    "    - *Diesel*: автомобили, работающие на дизельном топливе.\n",
    "    - *Hybrid*: автомобили, использующие как топливо, так и электричество.\n",
    "    - *Electric*: полностью электрические автомобили.\n",
    "\n",
    "- *Transmission*: тип трансмиссии:\n",
    "    - *Manual*: механическая коробка передач.\n",
    "    - *Automatic*: автоматическая коробка передач.\n",
    "    - *Semi-Automatic*: полуавтоматическая коробка передач.\n",
    "\n",
    "- *Mileage*: общее расстояние (в км), которое проехал автомобиль.\n",
    "\n",
    "- *Doors*: количество дверей в автомобиле.\n",
    "\n",
    "- *Owner_Count*: количество предыдущих владельцев автомобиля.\n",
    "\n",
    "- *Price*: цена автомобиля (таргет)."
   ]
  },
  {
   "cell_type": "code",
   "execution_count": 71,
   "metadata": {},
   "outputs": [],
   "source": [
    "import optuna as opt\n",
    "import pandas as pd\n",
    "import seaborn as sns\n",
    "import matplotlib.pyplot as plt\n",
    "from sklearn.preprocessing  import LabelEncoder\n",
    "from sklearn.preprocessing import MinMaxScaler\n",
    "from sklearn.model_selection import train_test_split\n",
    "from sklearn.ensemble import RandomForestRegressor\n",
    "from sklearn.metrics import mean_absolute_error, r2_score\n",
    "\n",
    "sns.set_theme()"
   ]
  }
 ],
 "metadata": {
  "kernelspec": {
   "display_name": "Python 3",
   "language": "python",
   "name": "python3"
  },
  "language_info": {
   "codemirror_mode": {
    "name": "ipython",
    "version": 3
   },
   "file_extension": ".py",
   "mimetype": "text/x-python",
   "name": "python",
   "nbconvert_exporter": "python",
   "pygments_lexer": "ipython3",
   "version": "3.10.11"
  }
 },
 "nbformat": 4,
 "nbformat_minor": 2
}
